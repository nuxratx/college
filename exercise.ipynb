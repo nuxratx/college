{
        "cells": [
                {
                        "cell_type": "markdown",
                        "metadata": {},
                        "source": [
                                "# Built-In String Method & Print Formatting\n",
                                "* Obects in python have have built-in methods. These methods are function inside the objects. \n",
                                "* object.method(parameters)"
                        ]
                },
                {
                        "cell_type": "code",
                        "execution_count": 8,
                        "metadata": {},
                        "outputs": [
                                {
                                        "data": {
                                                "text/plain": [
                                                        "'A string with brackets: new string'"
                                                ]
                                        },
                                        "execution_count": 8,
                                        "metadata": {},
                                        "output_type": "execute_result"
                                }
                        ],
                        "source": [
                                "my_book = 'The bride of the baja'\n",
                                "my_book = my_book+':is book about a girl falling in love with a sailor'\n",
                                "\n",
                                "#Lower case\n",
                                "my_book.lower()\n",
                                "\n",
                                "#Split a string by blank space \n",
                                "my_book.split()\n",
                                "\n",
                                "#YSplit by a specific element, notice how it splits everytime there is a b but does not include the b \n",
                                "my_book.split('b')\n",
                                "\n",
                                "'A string with brackets: {}'.format('new string')"
                        ]
                },
                {
                        "cell_type": "markdown",
                        "metadata": {},
                        "source": [
                                "# String Formatting\n",
                                "This allows to inject items into a string rather than trying to chain items together using commas or string concatenation. \n"
                        ]
                },
                {
                        "cell_type": "code",
                        "execution_count": 15,
                        "metadata": {},
                        "outputs": [
                                {
                                        "name": "stdout",
                                        "output_type": "stream",
                                        "text": [
                                                "The  quick brown fox\n",
                                                "The first object: 1\n"
                                        ]
                                }
                        ],
                        "source": [
                                "book = 'Bride of the Baja'\n",
                                "book_numer = 30 \n",
                                "\n",
                                "'Last night I was reading, '+book+' and it was my '+str(book_numer)+'th book.' #Concatenation\n",
                                "f'last nigh I was reading {book} and it was my {book_numer}th book'  # String Formatting\n",
                                "\n",
                                "\n",
                                "# Insert objects can be called by index position: \n",
                                "print('The {2} {1} {0}'.format('fox', 'brown' , ' quick'))\n",
                                "\n",
                                "#Insert objects can be asdigned keywords \n",
                                "print('The first object: {a}'.format(a=1))"
                        ]
                },
                {
                        "cell_type": "markdown",
                        "metadata": {},
                        "source": [
                                "## List Methods\n"
                        ]
                },
                {
                        "cell_type": "code",
                        "execution_count": 22,
                        "metadata": {},
                        "outputs": [
                                {
                                        "data": {
                                                "text/plain": [
                                                        "['a', 'b', 'e', 'l', 'x']"
                                                ]
                                        },
                                        "execution_count": 22,
                                        "metadata": {},
                                        "output_type": "execute_result"
                                }
                        ],
                        "source": [
                                "#Create a new list \n",
                                "list_of_books = [1,2,3]\n",
                                "list_of_books.append('added 4')\n",
                                "\n",
                                "list_of_books\n",
                                "\n",
                                "#Use list method to \"pop off\" an item from the list. By default pop takes off the last index, but you csn slso specify which index to pop off. \n",
                                "popped_item = list_of_books.pop(2)\n",
                                "popped_item\n",
                                "\n",
                                "list_of_books\n",
                                "\n",
                                "#Reverse mrthod \n",
                                "new_list = ['a','b', 'x', 'e' , 'l']\n",
                                "new_list.reverse()\n",
                                "new_list\n",
                                "\n",
                                "#Sort method \n",
                                "new_list.sort()\n",
                                "new_list"
                        ]
                },
                {
                        "cell_type": "markdown",
                        "metadata": {},
                        "source": [
                                "## Nesting List & List comprehensions \n",
                                "A feature of python data structures is that they support nesting. Whioch means we can have dta structures within data structures. A list inside a list "
                        ]
                },
                {
                        "cell_type": "code",
                        "execution_count": 24,
                        "metadata": {},
                        "outputs": [
                                {
                                        "data": {
                                                "text/plain": [
                                                        "[[1, 2, 3], ['a', 'b', 'c'], [4, 5, 6]]"
                                                ]
                                        },
                                        "execution_count": 24,
                                        "metadata": {},
                                        "output_type": "execute_result"
                                }
                        ],
                        "source": [
                                "#Let's make three lists \n",
                                "list_1 = [1,2,3]\n",
                                "list_2 = ['a', 'b', 'c']\n",
                                "list_3 = [4,5,6]\n",
                                "\n",
                                "#Make list of lists to form a matrix \n",
                                "matrix = [list_1,list_2,list_3]\n",
                                "matrix"
                        ]
                },
                {
                        "cell_type": "markdown",
                        "metadata": {},
                        "source": [
                                "Use indexing to grab elements, but now there are teo levels for the index. The items in the matrix object, and then the items inside the list!"
                        ]
                },
                {
                        "cell_type": "code",
                        "execution_count": 26,
                        "metadata": {},
                        "outputs": [
                                {
                                        "data": {
                                                "text/plain": [
                                                        "1"
                                                ]
                                        },
                                        "execution_count": 26,
                                        "metadata": {},
                                        "output_type": "execute_result"
                                }
                        ],
                        "source": [
                                "#Grab first item from the matrix object \n",
                                "matrix[0]\n",
                                "\n",
                                "#Grab first item of the first item in the matrix object \n",
                                "matrix[0][0]"
                        ]
                },
                {
                        "cell_type": "markdown",
                        "metadata": {},
                        "source": [
                                "#### List Comprehensions\n",
                                "Python have a feature called list comprehension. They allow for quick construction of lists. They go togethe rwith for loop "
                        ]
                },
                {
                        "cell_type": "code",
                        "execution_count": 27,
                        "metadata": {},
                        "outputs": [
                                {
                                        "data": {
                                                "text/plain": [
                                                        "[1, 'a', 4]"
                                                ]
                                        },
                                        "execution_count": 27,
                                        "metadata": {},
                                        "output_type": "execute_result"
                                }
                        ],
                        "source": [
                                "#Build a list comprehension by deconstructing a for loop within a []\n",
                                "first_col = [row[0] for row in matrix]\n",
                                "first_col\n",
                                "\n",
                                "#Basically used a list comprehension here to grab the first element of every row in the matrix object. "
                        ]
                },
                {
                        "cell_type": "markdown",
                        "metadata": {},
                        "source": [
                                "##  <mark style= \"background-color: #ffc0cb\" > Assessnents: Test basic understanding </mark>"
                        ]
                },
                {
                        "cell_type": "code",
                        "execution_count": 19,
                        "metadata": {},
                        "outputs": [
                                {
                                        "name": "stdout",
                                        "output_type": "stream",
                                        "text": [
                                                "start\n",
                                                "s\n",
                                                "sentence\n"
                                        ]
                                }
                        ],
                        "source": [
                                "#Use for, .split(), and if to create a Statement that will print out words that start with 's':\n",
                                "\n",
                                "st = 'Print only the words that start with s in this sentence'\n",
                                "\n",
                                "for word in st.split():\n",
                                "    if word[0] == 's':\n",
                                "        print(word)\n",
                                "\n",
                                "\n",
                                "\n",
                                "\n",
                                "\n"
                        ]
                },
                {
                        "cell_type": "code",
                        "execution_count": 21,
                        "metadata": {},
                        "outputs": [
                                {
                                        "data": {
                                                "text/plain": [
                                                        "[3, 6, 9, 12, 15, 18, 21, 24, 27, 30, 33, 36, 39, 42, 45, 48]"
                                                ]
                                        },
                                        "execution_count": 21,
                                        "metadata": {},
                                        "output_type": "execute_result"
                                }
                        ],
                        "source": [
                                "#Use a list comprehension to create a list of all numbers between 1 and 50 that are divisible by 3 \n",
                                "\n",
                                "[x for x in range(1,51) if x%3==0]"
                        ]
                },
                {
                        "cell_type": "code",
                        "execution_count": 31,
                        "metadata": {},
                        "outputs": [
                                {
                                        "name": "stdout",
                                        "output_type": "stream",
                                        "text": [
                                                "0 2 4 6 8 10\n"
                                        ]
                                }
                        ],
                        "source": [
                                "#Use range() to print all the even numbers from 0 to 10 \n",
                                "#One liner \n",
                                "print(*range(0,11,2))\n"
                        ]
                },
                {
                        "cell_type": "code",
                        "execution_count": 43,
                        "metadata": {},
                        "outputs": [
                                {
                                        "name": "stdout",
                                        "output_type": "stream",
                                        "text": [
                                                "word<-- has an even length!\n",
                                                "in<-- has an even length!\n",
                                                "this<-- has an even length!\n",
                                                "sentence<-- has an even length!\n",
                                                "that<-- has an even length!\n",
                                                "an<-- has an even length!\n",
                                                "even<-- has an even length!\n",
                                                "number<-- has an even length!\n",
                                                "of<-- has an even length!\n"
                                        ]
                                }
                        ],
                        "source": [
                                "st = 'Print every word in this sentence that has an even number of letters'\n",
                                "\n",
                                "for word in st.split():\n",
                                "    if len(word)%2 == 0 :\n",
                                "       print(word+ \"<-- has an even length!\")"
                        ]
                },
                {
                        "cell_type": "code",
                        "execution_count": 54,
                        "metadata": {},
                        "outputs": [
                                {
                                        "data": {
                                                "text/plain": [
                                                        "['C', 'a', 'l', 'o', 't', 'f', 'l', 'o', 'e', 'w', 'i', 't', 's']"
                                                ]
                                        },
                                        "execution_count": 54,
                                        "metadata": {},
                                        "output_type": "execute_result"
                                }
                        ],
                        "source": [
                                "#Use List Comprehension to create a list of the first letters of every word in the string below:\n",
                                "st = 'Create a list of the first letters of every word in this string'\n",
                                "new_lst = []\n",
                                "\n",
                                "[word[0] for word in st.split()]\n",
                                "\n",
                                "\n"
                        ]
                },
                {
                        "cell_type": "markdown",
                        "metadata": {},
                        "source": [
                                "#### Write a program\n",
                                "* Write a program that prints the integers from 1 to 100. But for multiples of three print \"Fizz\" instead of the number, and for the multiples of five print \"Buzz\". For numbers which are multiples of both three and five print \"FizzBuzz\".\n"
                        ]
                },
                {
                        "cell_type": "code",
                        "execution_count": null,
                        "metadata": {},
                        "outputs": [],
                        "source": [
                                "for num in range(1,101):\n",
                                "    \n",
                                "    if num  % 3 == 0:\n",
                                "        print('Fizz')\n",
                                "\n",
                                "    elif num % 5 ==0 :\n",
                                "        print('Buzz')\n",
                                "    elif num % 5 and num % 3:\n",
                                "        print('FizzBuzz')\n",
                                "    else:\n",
                                "        print(num)"
                        ]
                },
                {
                        "cell_type": "code",
                        "execution_count": null,
                        "metadata": {},
                        "outputs": [],
                        "source": []
                },
                {
                        "cell_type": "code",
                        "execution_count": null,
                        "metadata": {},
                        "outputs": [],
                        "source": []
                }
        ],
        "metadata": {
                "kernelspec": {
                        "display_name": "Python 3",
                        "language": "python",
                        "name": "python3"
                },
                "language_info": {
                        "codemirror_mode": {
                                "name": "ipython",
                                "version": 3
                        },
                        "file_extension": ".py",
                        "mimetype": "text/x-python",
                        "name": "python",
                        "nbconvert_exporter": "python",
                        "pygments_lexer": "ipython3",
                        "version": "3.11.8"
                }
        },
        "nbformat": 4,
        "nbformat_minor": 2
}
